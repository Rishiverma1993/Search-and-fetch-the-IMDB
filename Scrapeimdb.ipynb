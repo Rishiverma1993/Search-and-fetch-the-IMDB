{
 "cells": [
  {
   "cell_type": "code",
   "execution_count": 17,
   "metadata": {},
   "outputs": [],
   "source": [
    "#importing required Libraries\n",
    "import pandas as pd   #to create dataframe\n",
    "import requests       #to send the request to the URL\n",
    "from bs4 import BeautifulSoup #to get the content in the form of HTML\n",
    "import numpy as np  # to count the values (in our case)"
   ]
  },
  {
   "cell_type": "code",
   "execution_count": 29,
   "metadata": {},
   "outputs": [],
   "source": [
    "#assigning the URL with variable name url\n",
    "url = 'https://www.imdb.com/search/title/?count=100&groups=top_1000&sort=user_rating'\n",
    "#request allow you to send HTTP request\n",
    "response = requests.get(url)\n",
    "soup = BeautifulSoup(response.content, 'html.parser')"
   ]
  },
  {
   "cell_type": "code",
   "execution_count": 42,
   "metadata": {},
   "outputs": [],
   "source": [
    "#creating an empty list, so that we can append the values\n",
    "movie_name = []\n",
    "year = []\n",
    "time = []\n",
    "rating = []\n",
    "votes = []\n",
    "Genra = []\n",
    "gross = []\n",
    "description = []\n",
    "Director = []\n",
    "Stars = []\n"
   ]
  },
  {
   "cell_type": "code",
   "execution_count": 39,
   "metadata": {},
   "outputs": [],
   "source": [
    "#storing the meaningfull required data in the variable\n",
    "movie_data = soup.findAll('div', attrs= {'class': 'lister-item mode-advanced'})\n"
   ]
  },
  {
   "cell_type": "code",
   "execution_count": 43,
   "metadata": {},
   "outputs": [],
   "source": [
    "#calling one by one using for loop\n",
    "for store in movie_data:\n",
    "    name = store.h3.a.text\n",
    "    movie_name.append(name)\n",
    "    \n",
    "    year_of_release = store.h3.find('span', class_ = 'lister-item-year text-muted unbold').text.replace('(', '').replace(')', '')\n",
    "    year.append(year_of_release)\n",
    "    \n",
    "    runtime = store.p.find('span', class_ = 'runtime').text.replace(' min', '')\n",
    "    time.append(runtime)\n",
    "    \n",
    "    rate = store.find('div', class_ = 'inline-block ratings-imdb-rating').text.replace('\\n', '')\n",
    "    rating.append(rate)\n",
    "    \n",
    "   \n",
    "    #since, gross and votes have same attributes, that's why we had created a common variable and then used indexing\n",
    "    value = store.find_all('span', attrs = {'name': 'nv'})\n",
    "    \n",
    "    vote = value[0].text\n",
    "    votes.append(vote)\n",
    "    \n",
    "    types = store.p.find('span', class_ = 'genre').text.replace('\\n','').replace('    ','')\n",
    "    Genra.append(types)\n",
    "    \n",
    "    \n",
    "    grosses = value[1].text if len(value) >1 else '*****'\n",
    "    gross.append(grosses)\n",
    "    \n",
    "     \n",
    "    describe = store.find_all('p', class_ = 'text-muted')\n",
    "    description_ = describe[1].text.replace('\\n', '') if len(describe) >1 else '*****'\n",
    "    description.append(description_)\n",
    "    \n",
    "    \n",
    "    cast = store.find(\"p\", class_ = '')\n",
    "    cast = cast.text.replace('\\n', '').split('|')\n",
    "    cast = [x.strip() for x in cast]\n",
    "    cast = [cast[i].replace(j, \"\") for i,j in enumerate([\"Director:\", \"Stars:\"])]\n",
    "    Director.append(cast[0])\n",
    "    Stars.append([x.strip() for x in cast[1].split(\",\")])"
   ]
  },
  {
   "cell_type": "code",
   "execution_count": 44,
   "metadata": {},
   "outputs": [],
   "source": [
    "#creating a dataframe using pandas library\n",
    "movie_DF = pd.DataFrame({'Name of movie': movie_name, 'Year of relase': year, 'Watchtime': time, 'Movie Rating': rating, \n",
    "                         'Votes': votes,'Genra of movie':Genra , 'Gross collection': gross, 'Description': description, \n",
    "                         \"Director\": Director, 'Star': Stars})   "
   ]
  },
  {
   "cell_type": "code",
   "execution_count": 45,
   "metadata": {},
   "outputs": [
    {
     "data": {
      "text/html": [
       "<div>\n",
       "<style scoped>\n",
       "    .dataframe tbody tr th:only-of-type {\n",
       "        vertical-align: middle;\n",
       "    }\n",
       "\n",
       "    .dataframe tbody tr th {\n",
       "        vertical-align: top;\n",
       "    }\n",
       "\n",
       "    .dataframe thead th {\n",
       "        text-align: right;\n",
       "    }\n",
       "</style>\n",
       "<table border=\"1\" class=\"dataframe\">\n",
       "  <thead>\n",
       "    <tr style=\"text-align: right;\">\n",
       "      <th></th>\n",
       "      <th>Name of movie</th>\n",
       "      <th>Year of relase</th>\n",
       "      <th>Watchtime</th>\n",
       "      <th>Movie Rating</th>\n",
       "      <th>Votes</th>\n",
       "      <th>Genra of movie</th>\n",
       "      <th>Gross collection</th>\n",
       "      <th>Description</th>\n",
       "      <th>Director</th>\n",
       "      <th>Star</th>\n",
       "    </tr>\n",
       "  </thead>\n",
       "  <tbody>\n",
       "    <tr>\n",
       "      <th>0</th>\n",
       "      <td>The Shawshank Redemption</td>\n",
       "      <td>1994</td>\n",
       "      <td>142</td>\n",
       "      <td>9.3</td>\n",
       "      <td>2,446,480</td>\n",
       "      <td>Drama</td>\n",
       "      <td>$28.34M</td>\n",
       "      <td>Two imprisoned men bond over a number of years...</td>\n",
       "      <td>Frank Darabont</td>\n",
       "      <td>[Tim Robbins, Morgan Freeman, Bob Gunton, Will...</td>\n",
       "    </tr>\n",
       "    <tr>\n",
       "      <th>1</th>\n",
       "      <td>The Godfather</td>\n",
       "      <td>1972</td>\n",
       "      <td>175</td>\n",
       "      <td>9.2</td>\n",
       "      <td>1,693,800</td>\n",
       "      <td>Crime, Drama</td>\n",
       "      <td>$134.97M</td>\n",
       "      <td>An organized crime dynasty's aging patriarch t...</td>\n",
       "      <td>Francis Ford Coppola</td>\n",
       "      <td>[Marlon Brando, Al Pacino, James Caan, Diane K...</td>\n",
       "    </tr>\n",
       "    <tr>\n",
       "      <th>2</th>\n",
       "      <td>Soorarai Pottru</td>\n",
       "      <td>2020</td>\n",
       "      <td>153</td>\n",
       "      <td>9.1</td>\n",
       "      <td>88,057</td>\n",
       "      <td>Drama</td>\n",
       "      <td>*****</td>\n",
       "      <td>Nedumaaran Rajangam \"Maara\" sets out to make t...</td>\n",
       "      <td>Sudha Kongara</td>\n",
       "      <td>[Suriya, Madhavan, Paresh Rawal, Aparna Balamu...</td>\n",
       "    </tr>\n",
       "    <tr>\n",
       "      <th>3</th>\n",
       "      <td>The Dark Knight</td>\n",
       "      <td>2008</td>\n",
       "      <td>152</td>\n",
       "      <td>9.0</td>\n",
       "      <td>2,402,318</td>\n",
       "      <td>Action, Crime, Drama</td>\n",
       "      <td>$534.86M</td>\n",
       "      <td>When the menace known as the Joker wreaks havo...</td>\n",
       "      <td>Christopher Nolan</td>\n",
       "      <td>[Christian Bale, Heath Ledger, Aaron Eckhart, ...</td>\n",
       "    </tr>\n",
       "    <tr>\n",
       "      <th>4</th>\n",
       "      <td>The Godfather: Part II</td>\n",
       "      <td>1974</td>\n",
       "      <td>202</td>\n",
       "      <td>9.0</td>\n",
       "      <td>1,176,606</td>\n",
       "      <td>Crime, Drama</td>\n",
       "      <td>$57.30M</td>\n",
       "      <td>The early life and career of Vito Corleone in ...</td>\n",
       "      <td>Francis Ford Coppola</td>\n",
       "      <td>[Al Pacino, Robert De Niro, Robert Duvall, Dia...</td>\n",
       "    </tr>\n",
       "    <tr>\n",
       "      <th>...</th>\n",
       "      <td>...</td>\n",
       "      <td>...</td>\n",
       "      <td>...</td>\n",
       "      <td>...</td>\n",
       "      <td>...</td>\n",
       "      <td>...</td>\n",
       "      <td>...</td>\n",
       "      <td>...</td>\n",
       "      <td>...</td>\n",
       "      <td>...</td>\n",
       "    </tr>\n",
       "    <tr>\n",
       "      <th>95</th>\n",
       "      <td>Incendies</td>\n",
       "      <td>2010</td>\n",
       "      <td>131</td>\n",
       "      <td>8.3</td>\n",
       "      <td>160,060</td>\n",
       "      <td>Drama, Mystery, War</td>\n",
       "      <td>$6.86M</td>\n",
       "      <td>Twins journey to the Middle East to discover t...</td>\n",
       "      <td>Denis Villeneuve</td>\n",
       "      <td>[Lubna Azabal, Mélissa Désormeaux-Poulin, Maxi...</td>\n",
       "    </tr>\n",
       "    <tr>\n",
       "      <th>96</th>\n",
       "      <td>Kimetsu no Yaiba: Mugen Ressha-Hen</td>\n",
       "      <td>2020</td>\n",
       "      <td>117</td>\n",
       "      <td>8.3</td>\n",
       "      <td>32,229</td>\n",
       "      <td>Animation, Action, Adventure</td>\n",
       "      <td>*****</td>\n",
       "      <td>After his family was brutally murdered and his...</td>\n",
       "      <td>Haruo Sotozaki</td>\n",
       "      <td>[Natsuki Hanae, Akari Kitô, Yoshitsugu Matsuok...</td>\n",
       "    </tr>\n",
       "    <tr>\n",
       "      <th>97</th>\n",
       "      <td>The Father</td>\n",
       "      <td>I 2020</td>\n",
       "      <td>97</td>\n",
       "      <td>8.3</td>\n",
       "      <td>86,607</td>\n",
       "      <td>Drama</td>\n",
       "      <td>*****</td>\n",
       "      <td>A man refuses all assistance from his daughter...</td>\n",
       "      <td>Florian Zeller</td>\n",
       "      <td>[Anthony Hopkins, Olivia Colman, Mark Gatiss, ...</td>\n",
       "    </tr>\n",
       "    <tr>\n",
       "      <th>98</th>\n",
       "      <td>Babam ve Oglum</td>\n",
       "      <td>2005</td>\n",
       "      <td>112</td>\n",
       "      <td>8.3</td>\n",
       "      <td>82,558</td>\n",
       "      <td>Drama, Family</td>\n",
       "      <td>*****</td>\n",
       "      <td>The family of a left-wing journalist is torn a...</td>\n",
       "      <td>Cagan Irmak</td>\n",
       "      <td>[Eser Sariyar, Çetin Tekindor, Fikret Kuskan, ...</td>\n",
       "    </tr>\n",
       "    <tr>\n",
       "      <th>99</th>\n",
       "      <td>Inglourious Basterds</td>\n",
       "      <td>2009</td>\n",
       "      <td>153</td>\n",
       "      <td>8.3</td>\n",
       "      <td>1,323,244</td>\n",
       "      <td>Adventure, Drama, War</td>\n",
       "      <td>$120.54M</td>\n",
       "      <td>In Nazi-occupied France during World War II, a...</td>\n",
       "      <td>Quentin Tarantino</td>\n",
       "      <td>[Brad Pitt, Diane Kruger, Eli Roth, Mélanie La...</td>\n",
       "    </tr>\n",
       "  </tbody>\n",
       "</table>\n",
       "<p>100 rows × 10 columns</p>\n",
       "</div>"
      ],
      "text/plain": [
       "                         Name of movie Year of relase Watchtime Movie Rating  \\\n",
       "0             The Shawshank Redemption           1994       142          9.3   \n",
       "1                        The Godfather           1972       175          9.2   \n",
       "2                      Soorarai Pottru           2020       153          9.1   \n",
       "3                      The Dark Knight           2008       152          9.0   \n",
       "4               The Godfather: Part II           1974       202          9.0   \n",
       "..                                 ...            ...       ...          ...   \n",
       "95                           Incendies           2010       131          8.3   \n",
       "96  Kimetsu no Yaiba: Mugen Ressha-Hen           2020       117          8.3   \n",
       "97                          The Father         I 2020        97          8.3   \n",
       "98                      Babam ve Oglum           2005       112          8.3   \n",
       "99                Inglourious Basterds           2009       153          8.3   \n",
       "\n",
       "        Votes                Genra of movie Gross collection  \\\n",
       "0   2,446,480                         Drama          $28.34M   \n",
       "1   1,693,800                  Crime, Drama         $134.97M   \n",
       "2      88,057                         Drama            *****   \n",
       "3   2,402,318          Action, Crime, Drama         $534.86M   \n",
       "4   1,176,606                  Crime, Drama          $57.30M   \n",
       "..        ...                           ...              ...   \n",
       "95    160,060           Drama, Mystery, War           $6.86M   \n",
       "96     32,229  Animation, Action, Adventure            *****   \n",
       "97     86,607                         Drama            *****   \n",
       "98     82,558                 Drama, Family            *****   \n",
       "99  1,323,244         Adventure, Drama, War         $120.54M   \n",
       "\n",
       "                                          Description              Director  \\\n",
       "0   Two imprisoned men bond over a number of years...        Frank Darabont   \n",
       "1   An organized crime dynasty's aging patriarch t...  Francis Ford Coppola   \n",
       "2   Nedumaaran Rajangam \"Maara\" sets out to make t...         Sudha Kongara   \n",
       "3   When the menace known as the Joker wreaks havo...     Christopher Nolan   \n",
       "4   The early life and career of Vito Corleone in ...  Francis Ford Coppola   \n",
       "..                                                ...                   ...   \n",
       "95  Twins journey to the Middle East to discover t...      Denis Villeneuve   \n",
       "96  After his family was brutally murdered and his...        Haruo Sotozaki   \n",
       "97  A man refuses all assistance from his daughter...        Florian Zeller   \n",
       "98  The family of a left-wing journalist is torn a...           Cagan Irmak   \n",
       "99  In Nazi-occupied France during World War II, a...     Quentin Tarantino   \n",
       "\n",
       "                                                 Star  \n",
       "0   [Tim Robbins, Morgan Freeman, Bob Gunton, Will...  \n",
       "1   [Marlon Brando, Al Pacino, James Caan, Diane K...  \n",
       "2   [Suriya, Madhavan, Paresh Rawal, Aparna Balamu...  \n",
       "3   [Christian Bale, Heath Ledger, Aaron Eckhart, ...  \n",
       "4   [Al Pacino, Robert De Niro, Robert Duvall, Dia...  \n",
       "..                                                ...  \n",
       "95  [Lubna Azabal, Mélissa Désormeaux-Poulin, Maxi...  \n",
       "96  [Natsuki Hanae, Akari Kitô, Yoshitsugu Matsuok...  \n",
       "97  [Anthony Hopkins, Olivia Colman, Mark Gatiss, ...  \n",
       "98  [Eser Sariyar, Çetin Tekindor, Fikret Kuskan, ...  \n",
       "99  [Brad Pitt, Diane Kruger, Eli Roth, Mélanie La...  \n",
       "\n",
       "[100 rows x 10 columns]"
      ]
     },
     "execution_count": 45,
     "metadata": {},
     "output_type": "execute_result"
    }
   ],
   "source": [
    "movie_DF"
   ]
  },
  {
   "cell_type": "code",
   "execution_count": 46,
   "metadata": {},
   "outputs": [],
   "source": [
    "#Saving data in Excel file:\n",
    "\n",
    "movie_DF.to_excel(\"Top_100_IMDB_movies.xlsx\")"
   ]
  },
  {
   "cell_type": "code",
   "execution_count": 36,
   "metadata": {},
   "outputs": [],
   "source": [
    "#erform exploratory data analysis to come up with some of the below insights \n",
    "#Genre distribution of titles\n",
    "#Top 10 most acted actors etc.\n",
    "\n",
    "\n",
    "import seaborn as sns\n",
    "import matplotlib.pyplot as plt"
   ]
  },
  {
   "cell_type": "code",
   "execution_count": 49,
   "metadata": {},
   "outputs": [
    {
     "data": {
      "image/png": "[encoded data removed]",
      "text/plain": [
       "<Figure size 720x720 with 1 Axes>"
      ]
     },
     "metadata": {
      "needs_background": "light"
     },
     "output_type": "display_data"
    }
   ],
   "source": [
    "movie_DF['Genra of movie'].hist(figsize=(10,10));"
   ]
  },
  {
   "cell_type": "code",
   "execution_count": 59,
   "metadata": {},
   "outputs": [
    {
     "data": {
      "text/plain": [
       "'DramaCrime, DramaAction, Crime, DramaDrama, WarAction, Adventure, DramaBiography, Drama, HistoryAction, Adventure, Sci-FiAction, Biography, DramaDrama, RomanceWesternAction, Sci-FiBiography, Crime, DramaAction, Adventure, FantasyComedy, Drama, ThrillerCrime, Drama, ThrillerAdventure, Drama, Sci-FiAnimation, Adventure, FamilyCrime, Drama, FantasyComedy, Drama, RomanceCrime, Drama, MysteryAction, Drama, MysteryDrama, Family, FantasyAction, Crime, MysteryDrama, MusicBiography, Comedy, DramaDrama, Mystery, Sci-FiBiography, Drama, MusicCrime, Mystery, ThrillerAnimation, Adventure, DramaAnimation, Drama, WarAdventure, Comedy, Sci-FiHorror, Mystery, ThrillerMystery, ThrillerDrama, Romance, WarComedy, Drama, FamilyAnimation, Drama, FantasyAnimation, Action, AdventureAnimation, Adventure, ComedyDrama, WesternAction, AdventureComedy, DramaDrama, FamilyDrama, Mystery, ThrillerDrama, HorrorDrama, Mystery, WarHorror, Sci-FiComedyDrama, Film-NoirComedy, Drama, WarDrama, Thriller, WarDrama, Fantasy, HorrorAdventure, Drama, War'"
      ]
     },
     "execution_count": 59,
     "metadata": {},
     "output_type": "execute_result"
    }
   ],
   "source": [
    "a = movie_DF['Genra of movie'].unique().sum()\n",
    "a"
   ]
  },
  {
   "cell_type": "code",
   "execution_count": 64,
   "metadata": {},
   "outputs": [
    {
     "data": {
      "text/plain": [
       "Drama                           10\n",
       "Crime, Drama                     6\n",
       "Action, Adventure, Drama         6\n",
       "Crime, Drama, Thriller           5\n",
       "Action, Crime, Drama             4\n",
       "Crime, Drama, Mystery            3\n",
       "Biography, Drama, History        3\n",
       "Drama, War                       3\n",
       "Comedy, Drama, Romance           3\n",
       "Animation, Action, Adventure     3\n",
       "Action, Sci-Fi                   2\n",
       "Drama, Family                    2\n",
       "Action, Biography, Drama         2\n",
       "Action, Drama, Mystery           2\n",
       "Western                          2\n",
       "Animation, Adventure, Family     2\n",
       "Action, Adventure, Sci-Fi        2\n",
       "Action, Adventure                2\n",
       "Drama, Mystery, War              2\n",
       "Action, Adventure, Fantasy       2\n",
       "Drama, Romance                   2\n",
       "Mystery, Thriller                2\n",
       "Comedy                           1\n",
       "Drama, Family, Fantasy           1\n",
       "Drama, Mystery, Thriller         1\n",
       "Biography, Crime, Drama          1\n",
       "Comedy, Drama, War               1\n",
       "Horror, Sci-Fi                   1\n",
       "Adventure, Comedy, Sci-Fi        1\n",
       "Action, Crime, Mystery           1\n",
       "Drama, Music                     1\n",
       "Animation, Adventure, Drama      1\n",
       "Drama, Romance, War              1\n",
       "Adventure, Drama, War            1\n",
       "Drama, Mystery, Sci-Fi           1\n",
       "Biography, Drama, Music          1\n",
       "Animation, Adventure, Comedy     1\n",
       "Drama, Film-Noir                 1\n",
       "Crime, Drama, Fantasy            1\n",
       "Biography, Comedy, Drama         1\n",
       "Adventure, Drama, Sci-Fi         1\n",
       "Drama, Fantasy, Horror           1\n",
       "Drama, Thriller, War             1\n",
       "Comedy, Drama, Family            1\n",
       "Comedy, Drama                    1\n",
       "Comedy, Drama, Thriller          1\n",
       "Crime, Mystery, Thriller         1\n",
       "Animation, Drama, War            1\n",
       "Drama, Horror                    1\n",
       "Animation, Drama, Fantasy        1\n",
       "Drama, Western                   1\n",
       "Horror, Mystery, Thriller        1\n",
       "Name: Genra of movie, dtype: int64"
      ]
     },
     "execution_count": 64,
     "metadata": {},
     "output_type": "execute_result"
    }
   ],
   "source": [
    "movie_DF['Genra of movie'].value_counts()"
   ]
  },
  {
   "cell_type": "code",
   "execution_count": 62,
   "metadata": {},
   "outputs": [
    {
     "data": {
      "text/plain": [
       "Christopher Nolan                    6\n",
       "Sergio Leone                         3\n",
       "Francis Ford Coppola                 3\n",
       "Peter Jackson                        3\n",
       "Charles Chaplin                      3\n",
       "                                    ..\n",
       "Asghar Farhadi                       1\n",
       "Sidney Lumet                         1\n",
       "Andrew Stanton                       1\n",
       "Directors:Aamir Khan, Amole Gupte    1\n",
       "Todd Phillips                        1\n",
       "Name: Director, Length: 69, dtype: int64"
      ]
     },
     "execution_count": 62,
     "metadata": {},
     "output_type": "execute_result"
    }
   ],
   "source": [
    "movie_DF['Director'].value_counts()"
   ]
  },
  {
   "cell_type": "code",
   "execution_count": 65,
   "metadata": {},
   "outputs": [
    {
     "ename": "TypeError",
     "evalue": "unhashable type: 'list'",
     "output_type": "error",
     "traceback": [
      "\u001b[1;31m---------------------------------------------------------------------------\u001b[0m",
      "\u001b[1;31mTypeError\u001b[0m                                 Traceback (most recent call last)",
      "\u001b[1;32mpandas\\_libs\\hashtable_class_helper.pxi\u001b[0m in \u001b[0;36mpandas._libs.hashtable.PyObjectHashTable.map_locations\u001b[1;34m()\u001b[0m\n",
      "\u001b[1;31mTypeError\u001b[0m: unhashable type: 'list'"
     ]
    },
    {
     "name": "stderr",
     "output_type": "stream",
     "text": [
      "Exception ignored in: 'pandas._libs.index.IndexEngine._call_map_locations'\n",
      "Traceback (most recent call last):\n",
      "  File \"pandas\\_libs\\hashtable_class_helper.pxi\", line 1709, in pandas._libs.hashtable.PyObjectHashTable.map_locations\n",
      "TypeError: unhashable type: 'list'\n"
     ]
    },
    {
     "data": {
      "text/plain": [
       "[Charles Chaplin, Paulette Goddard, Henry Bergman, Tiny Sandford]        1\n",
       "[Matthew McConaughey, Anne Hathaway, Jessica Chastain, Mackenzie Foy]    1\n",
       "[Mark Hamill, Harrison Ford, Carrie Fisher, Billy Dee Williams]          1\n",
       "[Matthew Broderick, Jeremy Irons, James Earl Jones, Whoopi Goldberg]     1\n",
       "[Brad Pitt, Edward Norton, Meat Loaf, Zach Grenier]                      1\n",
       "                                                                        ..\n",
       "[Madhavan, Vijay Sethupathi, Shraddha Srinath, Kathir]                   1\n",
       "[Ulrich Mühe, Martina Gedeck, Sebastian Koch, Ulrich Tukur]              1\n",
       "[Jack Nicholson, Louise Fletcher, Michael Berryman, Peter Brocco]        1\n",
       "[Eser Sariyar, Çetin Tekindor, Fikret Kuskan, Hümeyra]                   1\n",
       "[Robert De Niro, James Woods, Elizabeth McGovern, Treat Williams]        1\n",
       "Name: Star, Length: 100, dtype: int64"
      ]
     },
     "execution_count": 65,
     "metadata": {},
     "output_type": "execute_result"
    }
   ],
   "source": [
    "movie_DF['Star'].value_counts()"
   ]
  },
  {
   "cell_type": "code",
   "execution_count": null,
   "metadata": {},
   "outputs": [],
   "source": []
  }
 ],
 "metadata": {
  "kernelspec": {
   "display_name": "Python 3",
   "language": "python",
   "name": "python3"
  },
  "language_info": {
   "codemirror_mode": {
    "name": "ipython",
    "version": 3
   },
   "file_extension": ".py",
   "mimetype": "text/x-python",
   "name": "python",
   "nbconvert_exporter": "python",
   "pygments_lexer": "ipython3",
   "version": "3.8.5"
  }
 },
 "nbformat": 4,
 "nbformat_minor": 4
}
